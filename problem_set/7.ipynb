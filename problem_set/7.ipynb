{
 "cells": [
  {
   "cell_type": "code",
   "execution_count": null,
   "id": "0436ee9f",
   "metadata": {},
   "outputs": [],
   "source": [
    "import numpy as np\n",
    "import pandas as pd\n",
    "import matplotlib.pyplot as plt\n",
    "import seaborn as sns\n",
    "from scipy import stats\n",
    "import sys\n",
    "\n",
    "sys.path.append(\"../EDA\")\n",
    "DATA_PATH = \"../instruction/movieReplicationSet.csv\"\n",
    "ALPHA = 0.005\n",
    "\n",
    "import movie_data_formatter as mdf\n",
    "import movie_rating_gender as mrgy\n",
    "import general_functions as gf\n",
    "\n",
    "df = pd.read_csv(DATA_PATH)\n",
    "df = mdf.clean_data(df)\n",
    "processed_data = mdf.convert_to_table(df)\n",
    "\n",
    "\n",
    "processed_data.head()"
   ]
  }
 ],
 "metadata": {
  "kernelspec": {
   "display_name": "my_project_env (3.13.3)",
   "language": "python",
   "name": "python3"
  },
  "language_info": {
   "codemirror_mode": {
    "name": "ipython",
    "version": 3
   },
   "file_extension": ".py",
   "mimetype": "text/x-python",
   "name": "python",
   "nbconvert_exporter": "python",
   "pygments_lexer": "ipython3",
   "version": "3.13.3"
  }
 },
 "nbformat": 4,
 "nbformat_minor": 5
}
