{
 "cells": [
  {
   "cell_type": "code",
   "execution_count": null,
   "id": "1e73cbbb",
   "metadata": {},
   "outputs": [],
   "source": [
    "fig, ax = plt.subplots()\n",
    "ax, cdf1 = gf.graph_cdf(only_child_group[\"rating\"], ax=ax, label=\"Only Child\", color='orange', show=False)\n",
    "ax, cdf2 = gf.graph_cdf(not_only_child_group[\"rating\"], ax=ax, label=\"Not Only Child\", color='green', show=False)\n",
    "gf.find_point_largest_gap(cdf1, cdf2)\n",
    "\n",
    "# only include 0-4 ratings for gap analysis\n",
    "cdf1 = cdf1[:]\n",
    "cdf2 = cdf2[:]\n",
    "gap_start_x, gap_end_x = gf.find_point_largest_gap(cdf1, cdf2)\n",
    "\n",
    "# find the y-value for only child for annotation\n",
    "only_child_y = cdf1[gap_end_x]\n",
    "not_only_child_y = cdf2[gap_end_x]\n",
    "\n",
    "# place back to rating scale since it is 0.5 increments\n",
    "rating = [i * 0.5 for i in range(0, 9)]\n",
    "gap_start_x = rating[gap_start_x]\n",
    "gap_end_x = rating[gap_end_x]\n",
    "\n",
    "\n",
    "ax.legend()\n",
    "\n",
    "plt.show()\n",
    "plt.close()\n",
    "\n"
   ]
  },
  {
   "cell_type": "code",
   "execution_count": null,
   "id": "de6c421e",
   "metadata": {},
   "outputs": [],
   "source": [
    "# Calculate the differeces between the two CDFs at each rating and plot them \n",
    "gf.plot_absolute_differences(rating, cdf1, cdf2)"
   ]
  }
 ],
 "metadata": {
  "language_info": {
   "name": "python"
  }
 },
 "nbformat": 4,
 "nbformat_minor": 5
}
